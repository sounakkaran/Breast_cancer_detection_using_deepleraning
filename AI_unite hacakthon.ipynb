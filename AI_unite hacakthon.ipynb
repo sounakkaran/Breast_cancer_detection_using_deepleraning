{
 "cells": [
  {
   "cell_type": "code",
   "execution_count": 1,
   "id": "61632848",
   "metadata": {},
   "outputs": [],
   "source": [
    "import numpy as np\n",
    "import seaborn as sns\n",
    "import pandas as pd\n",
    "import matplotlib.pyplot as plt\n",
    "import cv2\n",
    "from keras_preprocessing.image import ImageDataGenerator\n",
    "from sklearn.preprocessing import LabelEncoder\n",
    "import albumentations as A\n",
    "from tensorflow.keras.utils import Sequence\n",
    "from sklearn.model_selection import train_test_split\n",
    "import skimage.exposure\n",
    "import os\n",
    "\n"
   ]
  },
  {
   "cell_type": "code",
   "execution_count": 2,
   "id": "cfaab0fe",
   "metadata": {},
   "outputs": [
    {
     "name": "stdout",
     "output_type": "stream",
     "text": [
      "Files extracted to directory\n"
     ]
    }
   ],
   "source": [
    "import zipfile\n",
    "import os\n",
    "\n",
    "# Define the path to the ZIP file and the directory to extract to\n",
    "zip_file_path = 'mammography_images.zip'\n",
    "extract_to_dir = 'directory'\n",
    "\n",
    "# Create the directory if it doesn't exist\n",
    "os.makedirs(extract_to_dir, exist_ok=True)\n",
    "\n",
    "# Open the ZIP file\n",
    "with zipfile.ZipFile(zip_file_path, 'r') as zip_ref:\n",
    "    # Extract all the contents into the directory\n",
    "    zip_ref.extractall(extract_to_dir)\n",
    "\n",
    "print(f\"Files extracted to {extract_to_dir}\")"
   ]
  },
  {
   "cell_type": "code",
   "execution_count": 3,
   "id": "7772291a",
   "metadata": {},
   "outputs": [
    {
     "name": "stdout",
     "output_type": "stream",
     "text": [
      "      filename              label\n",
      "0  Image_1.jpg     Density3Benign\n",
      "1  Image_2.jpg     Density1Benign\n",
      "2  Image_3.jpg  Density1Malignant\n",
      "3  Image_4.jpg     Density1Benign\n",
      "4  Image_5.jpg  Density1Malignant\n",
      "      filename\n",
      "0  Image_1.jpg\n",
      "1  Image_2.jpg\n",
      "2  Image_3.jpg\n",
      "3  Image_4.jpg\n",
      "4  Image_5.jpg\n",
      "      filename           label\n",
      "0  Image_1.jpg  Density3Benign\n",
      "1  Image_2.jpg  Density3Benign\n",
      "2  Image_3.jpg  Density3Benign\n",
      "3  Image_4.jpg  Density3Benign\n",
      "4  Image_5.jpg  Density3Benign\n"
     ]
    }
   ],
   "source": [
    "import pandas as pd\n",
    "\n",
    "# Replace these paths with the actual paths to your files\n",
    "train_path = r\"content/mammography_images/Training_set.csv\"\n",
    "test_path = r\"content/mammography_images/Testing_set.csv\"\n",
    "sub_path = r\"content/mammography_images/sample_submission.csv\"\n",
    "\n",
    "# Read the CSV files\n",
    "train = pd.read_csv(train_path)\n",
    "test = pd.read_csv(test_path)\n",
    "sub = pd.read_csv(sub_path)\n",
    "\n",
    "# Verify the data\n",
    "print(train.head())\n",
    "print(test.head())\n",
    "print(sub.head())\n"
   ]
  },
  {
   "cell_type": "code",
   "execution_count": 4,
   "id": "61fcbba2",
   "metadata": {},
   "outputs": [
    {
     "data": {
      "text/html": [
       "<div>\n",
       "<style scoped>\n",
       "    .dataframe tbody tr th:only-of-type {\n",
       "        vertical-align: middle;\n",
       "    }\n",
       "\n",
       "    .dataframe tbody tr th {\n",
       "        vertical-align: top;\n",
       "    }\n",
       "\n",
       "    .dataframe thead th {\n",
       "        text-align: right;\n",
       "    }\n",
       "</style>\n",
       "<table border=\"1\" class=\"dataframe\">\n",
       "  <thead>\n",
       "    <tr style=\"text-align: right;\">\n",
       "      <th></th>\n",
       "      <th>filename</th>\n",
       "      <th>label</th>\n",
       "    </tr>\n",
       "  </thead>\n",
       "  <tbody>\n",
       "    <tr>\n",
       "      <th>0</th>\n",
       "      <td>Image_1.jpg</td>\n",
       "      <td>Density3Benign</td>\n",
       "    </tr>\n",
       "    <tr>\n",
       "      <th>1</th>\n",
       "      <td>Image_2.jpg</td>\n",
       "      <td>Density1Benign</td>\n",
       "    </tr>\n",
       "    <tr>\n",
       "      <th>2</th>\n",
       "      <td>Image_3.jpg</td>\n",
       "      <td>Density1Malignant</td>\n",
       "    </tr>\n",
       "    <tr>\n",
       "      <th>3</th>\n",
       "      <td>Image_4.jpg</td>\n",
       "      <td>Density1Benign</td>\n",
       "    </tr>\n",
       "    <tr>\n",
       "      <th>4</th>\n",
       "      <td>Image_5.jpg</td>\n",
       "      <td>Density1Malignant</td>\n",
       "    </tr>\n",
       "  </tbody>\n",
       "</table>\n",
       "</div>"
      ],
      "text/plain": [
       "      filename              label\n",
       "0  Image_1.jpg     Density3Benign\n",
       "1  Image_2.jpg     Density1Benign\n",
       "2  Image_3.jpg  Density1Malignant\n",
       "3  Image_4.jpg     Density1Benign\n",
       "4  Image_5.jpg  Density1Malignant"
      ]
     },
     "execution_count": 4,
     "metadata": {},
     "output_type": "execute_result"
    }
   ],
   "source": [
    "train.head()"
   ]
  },
  {
   "cell_type": "code",
   "execution_count": 5,
   "id": "8558922e",
   "metadata": {},
   "outputs": [
    {
     "name": "stdout",
     "output_type": "stream",
     "text": [
      "len of training set 5724\n",
      "len of testing set 1908\n"
     ]
    }
   ],
   "source": [
    "print(\"len of training set\", len(train))\n",
    "print(\"len of testing set\", len(test))"
   ]
  },
  {
   "cell_type": "code",
   "execution_count": 6,
   "id": "d559b7bb",
   "metadata": {},
   "outputs": [
    {
     "data": {
      "text/plain": [
       "label\n",
       "Density2Malignant    1728\n",
       "Density1Malignant    1620\n",
       "Density3Benign        702\n",
       "Density1Benign        648\n",
       "Density3Malignant     432\n",
       "Density4Benign        324\n",
       "Density2Benign        216\n",
       "Density4Malignant      54\n",
       "Name: count, dtype: int64"
      ]
     },
     "execution_count": 6,
     "metadata": {},
     "output_type": "execute_result"
    }
   ],
   "source": [
    "\n",
    "(train[\"label\"].value_counts())"
   ]
  },
  {
   "cell_type": "code",
   "execution_count": 7,
   "id": "75e92780",
   "metadata": {},
   "outputs": [
    {
     "data": {
      "text/plain": [
       "(array([0, 1, 2, 3, 4, 5, 6, 7]),\n",
       " [Text(0, 0, 'Density3Benign'),\n",
       "  Text(1, 0, 'Density1Benign'),\n",
       "  Text(2, 0, 'Density1Malignant'),\n",
       "  Text(3, 0, 'Density4Benign'),\n",
       "  Text(4, 0, 'Density2Malignant'),\n",
       "  Text(5, 0, 'Density3Malignant'),\n",
       "  Text(6, 0, 'Density2Benign'),\n",
       "  Text(7, 0, 'Density4Malignant')])"
      ]
     },
     "execution_count": 7,
     "metadata": {},
     "output_type": "execute_result"
    },
    {
     "data": {
      "image/png": "[encoded data removed]",
      "text/plain": [
       "<Figure size 1200x400 with 1 Axes>"
      ]
     },
     "metadata": {},
     "output_type": "display_data"
    }
   ],
   "source": [
    "plt.figure(figsize=(12,4))\n",
    "sns.countplot(x=train[\"label\"],data=train,)\n",
    "plt.xticks(rotation=30)"
   ]
  },
  {
   "cell_type": "code",
   "execution_count": 8,
   "id": "8ec4e4bc",
   "metadata": {},
   "outputs": [
    {
     "data": {
      "text/html": [
       "<div>\n",
       "<style scoped>\n",
       "    .dataframe tbody tr th:only-of-type {\n",
       "        vertical-align: middle;\n",
       "    }\n",
       "\n",
       "    .dataframe tbody tr th {\n",
       "        vertical-align: top;\n",
       "    }\n",
       "\n",
       "    .dataframe thead th {\n",
       "        text-align: right;\n",
       "    }\n",
       "</style>\n",
       "<table border=\"1\" class=\"dataframe\">\n",
       "  <thead>\n",
       "    <tr style=\"text-align: right;\">\n",
       "      <th></th>\n",
       "      <th>filename</th>\n",
       "      <th>label</th>\n",
       "    </tr>\n",
       "  </thead>\n",
       "  <tbody>\n",
       "    <tr>\n",
       "      <th>0</th>\n",
       "      <td>Image_1.jpg</td>\n",
       "      <td>Density3Benign</td>\n",
       "    </tr>\n",
       "    <tr>\n",
       "      <th>6</th>\n",
       "      <td>Image_7.jpg</td>\n",
       "      <td>Density3Benign</td>\n",
       "    </tr>\n",
       "    <tr>\n",
       "      <th>19</th>\n",
       "      <td>Image_20.jpg</td>\n",
       "      <td>Density3Benign</td>\n",
       "    </tr>\n",
       "    <tr>\n",
       "      <th>24</th>\n",
       "      <td>Image_25.jpg</td>\n",
       "      <td>Density3Benign</td>\n",
       "    </tr>\n",
       "    <tr>\n",
       "      <th>33</th>\n",
       "      <td>Image_34.jpg</td>\n",
       "      <td>Density3Benign</td>\n",
       "    </tr>\n",
       "    <tr>\n",
       "      <th>...</th>\n",
       "      <td>...</td>\n",
       "      <td>...</td>\n",
       "    </tr>\n",
       "    <tr>\n",
       "      <th>5690</th>\n",
       "      <td>Image_5691.jpg</td>\n",
       "      <td>Density3Benign</td>\n",
       "    </tr>\n",
       "    <tr>\n",
       "      <th>5705</th>\n",
       "      <td>Image_5706.jpg</td>\n",
       "      <td>Density3Benign</td>\n",
       "    </tr>\n",
       "    <tr>\n",
       "      <th>5715</th>\n",
       "      <td>Image_5716.jpg</td>\n",
       "      <td>Density3Benign</td>\n",
       "    </tr>\n",
       "    <tr>\n",
       "      <th>5717</th>\n",
       "      <td>Image_5718.jpg</td>\n",
       "      <td>Density3Benign</td>\n",
       "    </tr>\n",
       "    <tr>\n",
       "      <th>5723</th>\n",
       "      <td>Image_5724.jpg</td>\n",
       "      <td>Density3Benign</td>\n",
       "    </tr>\n",
       "  </tbody>\n",
       "</table>\n",
       "<p>702 rows × 2 columns</p>\n",
       "</div>"
      ],
      "text/plain": [
       "            filename           label\n",
       "0        Image_1.jpg  Density3Benign\n",
       "6        Image_7.jpg  Density3Benign\n",
       "19      Image_20.jpg  Density3Benign\n",
       "24      Image_25.jpg  Density3Benign\n",
       "33      Image_34.jpg  Density3Benign\n",
       "...              ...             ...\n",
       "5690  Image_5691.jpg  Density3Benign\n",
       "5705  Image_5706.jpg  Density3Benign\n",
       "5715  Image_5716.jpg  Density3Benign\n",
       "5717  Image_5718.jpg  Density3Benign\n",
       "5723  Image_5724.jpg  Density3Benign\n",
       "\n",
       "[702 rows x 2 columns]"
      ]
     },
     "execution_count": 8,
     "metadata": {},
     "output_type": "execute_result"
    }
   ],
   "source": [
    "\n",
    "train[train[\"label\"]==\"Density3Benign\"]\n"
   ]
  },
  {
   "cell_type": "code",
   "execution_count": 9,
   "id": "0a13a8a7",
   "metadata": {},
   "outputs": [],
   "source": [
    "def preprocess(image):\n",
    "    kernel = np.array([[0,-1,0], [-1,5,-1], [0,-1,0]])\n",
    "    im = cv2.filter2D(image, -1, kernel)\n",
    "    #out2 = skimage.exposure.rescale_intensity(im, in_range=(150,200), out_range=(0,255))\n",
    "    out1=(cv2.normalize(im, (224,224),0, 255, cv2.NORM_MINMAX))\n",
    "    return out1"
   ]
  },
  {
   "cell_type": "code",
   "execution_count": 10,
   "id": "9c125493",
   "metadata": {},
   "outputs": [],
   "source": [
    "X_train, X_valid = train_test_split(train, test_size=0.1,stratify=train[\"label\"],shuffle=True)"
   ]
  },
  {
   "cell_type": "code",
   "execution_count": 11,
   "id": "18e2dfeb",
   "metadata": {},
   "outputs": [
    {
     "name": "stdout",
     "output_type": "stream",
     "text": [
      "len of training set 5151\n",
      "len of validation set 573\n"
     ]
    }
   ],
   "source": [
    "print(\"len of training set\", len(X_train))\n",
    "print(\"len of validation set\", len(X_valid))"
   ]
  },
  {
   "cell_type": "code",
   "execution_count": 12,
   "id": "093e4524",
   "metadata": {},
   "outputs": [],
   "source": [
    "\n",
    "datagen=ImageDataGenerator(rescale=1./255,preprocessing_function=preprocess)"
   ]
  },
  {
   "cell_type": "code",
   "execution_count": null,
   "id": "88ede3c5",
   "metadata": {},
   "outputs": [],
   "source": []
  },
  {
   "cell_type": "code",
   "execution_count": 13,
   "id": "384d6343",
   "metadata": {},
   "outputs": [
    {
     "name": "stdout",
     "output_type": "stream",
     "text": [
      "Found 5151 validated image filenames belonging to 8 classes.\n"
     ]
    }
   ],
   "source": [
    "train_generator=datagen.flow_from_dataframe(\n",
    "dataframe=X_train,\n",
    "directory=\"content/mammography_images/train\",\n",
    "x_col=\"filename\",\n",
    "y_col=\"label\",\n",
    "batch_size=32,\n",
    "seed=42,\n",
    "shuffle=True,\n",
    "class_mode=\"categorical\",\n",
    "target_size=(224,224))"
   ]
  },
  {
   "cell_type": "code",
   "execution_count": 14,
   "id": "a2abbdc5",
   "metadata": {},
   "outputs": [
    {
     "name": "stderr",
     "output_type": "stream",
     "text": [
      "WARNING:matplotlib.image:Clipping input data to the valid range for imshow with RGB data ([0..1] for floats or [0..255] for integers).\n",
      "WARNING:matplotlib.image:Clipping input data to the valid range for imshow with RGB data ([0..1] for floats or [0..255] for integers).\n"
     ]
    },
    {
     "name": "stdout",
     "output_type": "stream",
     "text": [
      "(224, 224, 3)\n",
      "(224, 224, 3)\n"
     ]
    },
    {
     "data": {
      "image/png": "[encoded data removed]",
      "text/plain": [
       "<Figure size 600x800 with 1 Axes>"
      ]
     },
     "metadata": {},
     "output_type": "display_data"
    },
    {
     "data": {
      "image/png": "[encoded data removed]",
      "text/plain": [
       "<Figure size 600x800 with 1 Axes>"
      ]
     },
     "metadata": {},
     "output_type": "display_data"
    }
   ],
   "source": [
    "x,y = train_generator.next()\n",
    "for i in range(2):\n",
    "    image = x[i]\n",
    "    plt.figure(figsize=(6,8))\n",
    "    plt.subplot(1,2,i+1)\n",
    "    plt.imshow(image)\n",
    "    print(image.shape)   \n",
    "plt.show()"
   ]
  },
  {
   "cell_type": "code",
   "execution_count": 15,
   "id": "cb2db897",
   "metadata": {},
   "outputs": [
    {
     "name": "stdout",
     "output_type": "stream",
     "text": [
      "Found 573 validated image filenames belonging to 8 classes.\n"
     ]
    }
   ],
   "source": [
    "valid_datagen=ImageDataGenerator(rescale=1./255.,preprocessing_function=preprocess)\n",
    "valid_generator=valid_datagen.flow_from_dataframe( \n",
    "dataframe=X_valid,\n",
    "directory=\"content/mammography_images/train\",\n",
    "x_col=\"filename\",\n",
    "y_col=\"label\",\n",
    "batch_size=32,\n",
    "seed=42,\n",
    "shuffle=True,\n",
    "class_mode=\"categorical\",\n",
    "target_size=(224,224))\n",
    "     "
   ]
  },
  {
   "cell_type": "code",
   "execution_count": 16,
   "id": "e1d1e373",
   "metadata": {},
   "outputs": [],
   "source": [
    "from tensorflow.keras.layers import Dense, Flatten, GlobalAveragePooling2D, BatchNormalization, Dropout,AveragePooling2D\n",
    "from tensorflow.keras.applications.resnet import ResNet50\n",
    "import tensorflow as tf\n",
    "from tensorflow.keras.applications import InceptionV3,DenseNet201,EfficientNetB7, MobileNetV2,Xception,VGG16,NASNetMobile\n",
    "from keras.applications.inception_resnet_v2 import InceptionResNetV2\n",
    "from tensorflow.keras.callbacks import ModelCheckpoint, EarlyStopping, ReduceLROnPlateau\n",
    "from keras.models import Model\n",
    "from keras.models import Sequential\n",
    "from keras.regularizers import *\n",
    "from tensorflow import keras\n",
    "from tensorflow.keras import layers"
   ]
  },
  {
   "cell_type": "code",
   "execution_count": 17,
   "id": "c2520e3b",
   "metadata": {},
   "outputs": [],
   "source": [
    "import os\n",
    "from keras.callbacks import ModelCheckpoint, EarlyStopping, ReduceLROnPlateau\n",
    "\n",
    "# Correct the checkpoint path to end with .weights.h5\n",
    "checkpoint_path = \"training_0/cp.weights.h5\"\n",
    "checkpoint_dir = os.path.dirname(checkpoint_path)\n",
    "\n",
    "my_callbacks = [\n",
    "    ModelCheckpoint(checkpoint_path, monitor='val_accuracy', verbose=1, save_weights_only=True, save_best_only=True, mode=\"max\"),\n",
    "    EarlyStopping(monitor='val_loss', patience=5, verbose=1, mode='min'),\n",
    "    ReduceLROnPlateau(monitor='val_loss', factor=0.1, patience=5, verbose=1, mode='min', min_delta=1e-4)\n",
    "]\n"
   ]
  },
  {
   "cell_type": "code",
   "execution_count": 18,
   "id": "3b9f1074",
   "metadata": {},
   "outputs": [],
   "source": [
    "STEP_SIZE_TRAIN=train_generator.n//train_generator.batch_size\n",
    "STEP_SIZE_VALID=valid_generator.n//valid_generator.batch_size\n",
    "     "
   ]
  },
  {
   "cell_type": "code",
   "execution_count": 19,
   "id": "84c3de40",
   "metadata": {},
   "outputs": [],
   "source": [
    "def build_model():\n",
    "    model = Sequential()\n",
    "\n",
    "    conv_base = DenseNet201(input_shape=(224,224,3), include_top=False, pooling='max',weights='imagenet')\n",
    "    model.add(conv_base)\n",
    "    model.add(BatchNormalization())\n",
    "    model.add(Dense(2048, activation='relu', kernel_regularizer=l1_l2(0.01)))\n",
    "    model.add(BatchNormalization())\n",
    "    model.add(Dense(8, activation='softmax'))\n",
    "\n",
    "    train_layers = [layer for layer in conv_base.layers[::-1][:5]]\n",
    "\n",
    "    for layer in conv_base.layers:\n",
    "        if layer in train_layers:\n",
    "            layer.trainable = True\n",
    "    return model"
   ]
  },
  {
   "cell_type": "code",
   "execution_count": 20,
   "id": "2e4dd000",
   "metadata": {},
   "outputs": [],
   "source": [
    "my_model=build_model()\n",
    "     "
   ]
  },
  {
   "cell_type": "code",
   "execution_count": 22,
   "id": "628e1c82",
   "metadata": {},
   "outputs": [],
   "source": [
    "my_model.compile(optimizer =tf.keras.optimizers.Adam(learning_rate=0.00001,decay=0.0001),metrics=[\"accuracy\"],loss= tf.keras.losses.CategoricalCrossentropy(label_smoothing=0.1))\n",
    "     "
   ]
  },
  {
   "cell_type": "code",
   "execution_count": 23,
   "id": "54644e09",
   "metadata": {},
   "outputs": [
    {
     "name": "stdout",
     "output_type": "stream",
     "text": [
      "Epoch 1/5\n"
     ]
    },
    {
     "name": "stderr",
     "output_type": "stream",
     "text": [
      "C:\\Users\\91750\\anaconda3\\Lib\\site-packages\\keras\\src\\trainers\\data_adapters\\py_dataset_adapter.py:121: UserWarning: Your `PyDataset` class should call `super().__init__(**kwargs)` in its constructor. `**kwargs` can include `workers`, `use_multiprocessing`, `max_queue_size`. Do not pass these arguments to `fit()`, as they will be ignored.\n",
      "  self._warn_if_super_not_called()\n"
     ]
    },
    {
     "name": "stdout",
     "output_type": "stream",
     "text": [
      "\u001b[1m160/160\u001b[0m \u001b[32m━━━━━━━━━━━━━━━━━━━━\u001b[0m\u001b[37m\u001b[0m \u001b[1m0s\u001b[0m 43s/step - accuracy: 0.1916 - loss: 752.9224 \n",
      "Epoch 1: val_accuracy improved from -inf to 0.21691, saving model to training_0/cp.weights.h5\n",
      "\u001b[1m160/160\u001b[0m \u001b[32m━━━━━━━━━━━━━━━━━━━━\u001b[0m\u001b[37m\u001b[0m \u001b[1m7011s\u001b[0m 43s/step - accuracy: 0.1921 - loss: 752.8362 - val_accuracy: 0.2169 - val_loss: 711.5681 - learning_rate: 1.0000e-05\n",
      "Epoch 2/5\n",
      "\u001b[1m  1/160\u001b[0m \u001b[37m━━━━━━━━━━━━━━━━━━━━\u001b[0m \u001b[1m2:27:10\u001b[0m 56s/step - accuracy: 0.4375 - loss: 711.0588"
     ]
    },
    {
     "name": "stderr",
     "output_type": "stream",
     "text": [
      "C:\\Users\\91750\\anaconda3\\Lib\\contextlib.py:155: UserWarning: Your input ran out of data; interrupting training. Make sure that your dataset or generator can generate at least `steps_per_epoch * epochs` batches. You may need to use the `.repeat()` function when building your dataset.\n",
      "  self.gen.throw(typ, value, traceback)\n"
     ]
    },
    {
     "name": "stdout",
     "output_type": "stream",
     "text": [
      "\n",
      "Epoch 2: val_accuracy did not improve from 0.21691\n",
      "\u001b[1m160/160\u001b[0m \u001b[32m━━━━━━━━━━━━━━━━━━━━\u001b[0m\u001b[37m\u001b[0m \u001b[1m66s\u001b[0m 64ms/step - accuracy: 0.4375 - loss: 711.0588 - val_accuracy: 0.2069 - val_loss: 711.2828 - learning_rate: 1.0000e-05\n",
      "Epoch 3/5\n",
      "\u001b[1m160/160\u001b[0m \u001b[32m━━━━━━━━━━━━━━━━━━━━\u001b[0m\u001b[37m\u001b[0m \u001b[1m0s\u001b[0m 47s/step - accuracy: 0.6115 - loss: 697.0655 \n",
      "Epoch 3: val_accuracy improved from 0.21691 to 0.32353, saving model to training_0/cp.weights.h5\n",
      "\u001b[1m160/160\u001b[0m \u001b[32m━━━━━━━━━━━━━━━━━━━━\u001b[0m\u001b[37m\u001b[0m \u001b[1m7541s\u001b[0m 47s/step - accuracy: 0.6118 - loss: 696.9822 - val_accuracy: 0.3235 - val_loss: 657.4805 - learning_rate: 1.0000e-05\n",
      "Epoch 4/5\n",
      "\u001b[1m  1/160\u001b[0m \u001b[37m━━━━━━━━━━━━━━━━━━━━\u001b[0m \u001b[1m1:50:57\u001b[0m 42s/step - accuracy: 0.7500 - loss: 656.5269\n",
      "Epoch 4: val_accuracy did not improve from 0.32353\n",
      "\u001b[1m160/160\u001b[0m \u001b[32m━━━━━━━━━━━━━━━━━━━━\u001b[0m\u001b[37m\u001b[0m \u001b[1m49s\u001b[0m 47ms/step - accuracy: 0.7500 - loss: 656.5269 - val_accuracy: 0.3103 - val_loss: 657.4484 - learning_rate: 1.0000e-05\n",
      "Epoch 5/5\n",
      "\u001b[1m160/160\u001b[0m \u001b[32m━━━━━━━━━━━━━━━━━━━━\u001b[0m\u001b[37m\u001b[0m \u001b[1m0s\u001b[0m 45s/step - accuracy: 0.8498 - loss: 642.9661 \n",
      "Epoch 5: val_accuracy improved from 0.32353 to 0.45772, saving model to training_0/cp.weights.h5\n",
      "\u001b[1m160/160\u001b[0m \u001b[32m━━━━━━━━━━━━━━━━━━━━\u001b[0m\u001b[37m\u001b[0m \u001b[1m7302s\u001b[0m 46s/step - accuracy: 0.8499 - loss: 642.8849 - val_accuracy: 0.4577 - val_loss: 604.4049 - learning_rate: 1.0000e-05\n"
     ]
    },
    {
     "data": {
      "text/plain": [
       "<keras.src.callbacks.history.History at 0x19b4a1cb490>"
      ]
     },
     "execution_count": 23,
     "metadata": {},
     "output_type": "execute_result"
    }
   ],
   "source": [
    "my_model.fit(\n",
    "        train_generator,\n",
    "        steps_per_epoch=STEP_SIZE_TRAIN,\n",
    "        epochs=5,\n",
    "        validation_data=valid_generator,\n",
    "        validation_steps=STEP_SIZE_VALID,callbacks=[my_callbacks])\n",
    "     "
   ]
  },
  {
   "cell_type": "code",
   "execution_count": 36,
   "id": "458f059b",
   "metadata": {},
   "outputs": [
    {
     "name": "stdout",
     "output_type": "stream",
     "text": [
      "\f",
      "\n"
     ]
    }
   ],
   "source": []
  },
  {
   "cell_type": "code",
   "execution_count": 27,
   "id": "7b542732",
   "metadata": {},
   "outputs": [],
   "source": [
    "my_model.load_weights(checkpoint_path)"
   ]
  },
  {
   "cell_type": "code",
   "execution_count": 28,
   "id": "865b4cd2",
   "metadata": {},
   "outputs": [
    {
     "name": "stdout",
     "output_type": "stream",
     "text": [
      "\u001b[1m18/18\u001b[0m \u001b[32m━━━━━━━━━━━━━━━━━━━━\u001b[0m\u001b[37m\u001b[0m \u001b[1m51s\u001b[0m 3s/step - accuracy: 0.4590 - loss: 604.4106\n"
     ]
    },
    {
     "data": {
      "text/plain": [
       "[604.4332275390625, 0.452006995677948]"
      ]
     },
     "execution_count": 28,
     "metadata": {},
     "output_type": "execute_result"
    }
   ],
   "source": [
    "my_model.evaluate(valid_generator,verbose=1)"
   ]
  },
  {
   "cell_type": "code",
   "execution_count": 29,
   "id": "031df0b1",
   "metadata": {},
   "outputs": [
    {
     "data": {
      "text/plain": [
       "{'Density1Benign': 0,\n",
       " 'Density1Malignant': 1,\n",
       " 'Density2Benign': 2,\n",
       " 'Density2Malignant': 3,\n",
       " 'Density3Benign': 4,\n",
       " 'Density3Malignant': 5,\n",
       " 'Density4Benign': 6,\n",
       " 'Density4Malignant': 7}"
      ]
     },
     "execution_count": 29,
     "metadata": {},
     "output_type": "execute_result"
    }
   ],
   "source": [
    "train_generator.class_indices"
   ]
  },
  {
   "cell_type": "code",
   "execution_count": 30,
   "id": "e264c4d3",
   "metadata": {},
   "outputs": [
    {
     "name": "stdout",
     "output_type": "stream",
     "text": [
      "Found 1908 validated image filenames.\n"
     ]
    }
   ],
   "source": [
    "test_datagen=ImageDataGenerator(rescale=1./255.,preprocessing_function=preprocess)\n",
    "test_generator=valid_datagen.flow_from_dataframe(\n",
    "dataframe=test,\n",
    "directory=\"content/mammography_images/test\",\n",
    "x_col=\"filename\",\n",
    "y_col=None,\n",
    "batch_size=1,\n",
    "seed=42,\n",
    "shuffle=False,\n",
    "class_mode=None,\n",
    "target_size=(224,224))\n",
    "STEP_SIZE_TEST=test_generator.n//test_generator.batch_size"
   ]
  },
  {
   "cell_type": "code",
   "execution_count": 31,
   "id": "6f2eaeeb",
   "metadata": {},
   "outputs": [
    {
     "name": "stderr",
     "output_type": "stream",
     "text": [
      "C:\\Users\\91750\\anaconda3\\Lib\\site-packages\\keras\\src\\trainers\\data_adapters\\py_dataset_adapter.py:121: UserWarning: Your `PyDataset` class should call `super().__init__(**kwargs)` in its constructor. `**kwargs` can include `workers`, `use_multiprocessing`, `max_queue_size`. Do not pass these arguments to `fit()`, as they will be ignored.\n",
      "  self._warn_if_super_not_called()\n"
     ]
    },
    {
     "name": "stdout",
     "output_type": "stream",
     "text": [
      "\u001b[1m1908/1908\u001b[0m \u001b[32m━━━━━━━━━━━━━━━━━━━━\u001b[0m\u001b[37m\u001b[0m \u001b[1m280s\u001b[0m 144ms/step\n"
     ]
    }
   ],
   "source": [
    "pred1=np.argmax(my_model.predict(test_generator,steps=STEP_SIZE_TEST,verbose=1),axis=1)"
   ]
  },
  {
   "cell_type": "code",
   "execution_count": 32,
   "id": "938e2376",
   "metadata": {},
   "outputs": [
    {
     "data": {
      "text/plain": [
       "array([5, 2, 3, ..., 0, 1, 6], dtype=int64)"
      ]
     },
     "execution_count": 32,
     "metadata": {},
     "output_type": "execute_result"
    }
   ],
   "source": [
    "\n",
    "pred1"
   ]
  },
  {
   "cell_type": "code",
   "execution_count": 33,
   "id": "e646758f",
   "metadata": {},
   "outputs": [],
   "source": [
    "sub[\"label\"]=pred1\n",
    "sub[\"label\"]=sub[\"label\"].map({0:'Density1Benign',\n",
    " 1:'Density1Malignant',\n",
    " 2:'Density2Benign',\n",
    " 3:'Density2Malignant',\n",
    " 4: 'Density3Benign',\n",
    " 5: 'Density3Malignant',\n",
    " 6:'Density4Benign',\n",
    " 7:  'Density4Malignant'})"
   ]
  },
  {
   "cell_type": "code",
   "execution_count": 34,
   "id": "2f9d0031",
   "metadata": {},
   "outputs": [
    {
     "data": {
      "text/plain": [
       "label\n",
       "Density1Malignant    610\n",
       "Density1Benign       339\n",
       "Density2Benign       286\n",
       "Density2Malignant    194\n",
       "Density3Benign       187\n",
       "Density4Benign       155\n",
       "Density3Malignant     96\n",
       "Density4Malignant     41\n",
       "Name: count, dtype: int64"
      ]
     },
     "execution_count": 34,
     "metadata": {},
     "output_type": "execute_result"
    }
   ],
   "source": [
    "sub[\"label\"].value_counts()"
   ]
  },
  {
   "cell_type": "code",
   "execution_count": 35,
   "id": "f6cdf4ab",
   "metadata": {},
   "outputs": [],
   "source": [
    "sub.to_csv(\"9.csv\",index=False)\n",
    "     "
   ]
  },
  {
   "cell_type": "code",
   "execution_count": null,
   "id": "4354d0b4",
   "metadata": {},
   "outputs": [],
   "source": []
  }
 ],
 "metadata": {
  "kernelspec": {
   "display_name": "Python 3 (ipykernel)",
   "language": "python",
   "name": "python3"
  },
  "language_info": {
   "codemirror_mode": {
    "name": "ipython",
    "version": 3
   },
   "file_extension": ".py",
   "mimetype": "text/x-python",
   "name": "python",
   "nbconvert_exporter": "python",
   "pygments_lexer": "ipython3",
   "version": "3.11.5"
  }
 },
 "nbformat": 4,
 "nbformat_minor": 5
}
